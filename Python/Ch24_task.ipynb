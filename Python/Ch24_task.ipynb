{
 "cells": [
  {
   "cell_type": "markdown",
   "metadata": {},
   "source": [
    "사용자의 이름, 나이, 성별을 출력하는 함수 print_info를 작성하세요. 이 때, 모든 매개변수는 키워드 매개변수로만 받도록 하세요."
   ]
  },
  {
   "cell_type": "markdown",
   "metadata": {},
   "source": [
    "def print_info(user_name, user_age, user_gender) :\n",
    "\n",
    "    print(f\"이름 : {user_name}, 나이 : {user_age}, 성별 : {user_gender}\")\n",
    "\n",
    "print_info(user_name = \"홍길동\", user_age = 23, user_gender = \"남자\")"
   ]
  }
 ],
 "metadata": {
  "language_info": {
   "name": "python"
  }
 },
 "nbformat": 4,
 "nbformat_minor": 2
}
