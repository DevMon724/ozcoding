{
 "cells": [
  {
   "cell_type": "markdown",
   "metadata": {},
   "source": [
    "[문제]\n",
    "\n",
    "'Account' 클래스를 작성하세요. \n",
    "\n",
    "이 클래스는 소유자(owner)와 잔액(balance)을 속성으로 가지며, 잔액은 프라이빗 변수로 선언합니다. \n",
    "\n",
    "'deposit'와 'withdraw' 두 개의 메소드를 통해 잔액을 조작할 수 있도록 하세요. \n",
    "\n",
    "이 때, 잔액은 음수가 될 수 없도록 체크해야 합니다. 'Account' 객체를 생성하고,<br>\n",
    "입금 및 출금 작업을 시뮬레이션한 후, 최종 잔액을 출력하세요."
   ]
  },
  {
   "cell_type": "code",
   "execution_count": 3,
   "metadata": {},
   "outputs": [
    {
     "name": "stdout",
     "output_type": "stream",
     "text": [
      "SpongeBob님의 계좌 잔액은 370000원 입니다.\n"
     ]
    }
   ],
   "source": [
    "class Account :\n",
    "    def __init__(self, owner, balance) -> None:\n",
    "        self.owner = owner\n",
    "        self.balance = balance\n",
    "\n",
    "    def deposit(self, amount) :\n",
    "        result = self.balance + amount\n",
    "        print(f'{self.owner}님의 계좌 잔액은 {result}원 입니다.')\n",
    "        self.balance = result\n",
    "\n",
    "    def withdraw(self, amount) :\n",
    "        if amount > self.balance :\n",
    "            print(\"잔액이 부족합니다.\")\n",
    "        else :\n",
    "            result = self.balance - amount\n",
    "            print(f'{self.owner}님의 계좌 잔액은 {result}원 입니다.') \n",
    "\n",
    "account = Account(\"SpongeBob\", 400000)\n",
    "account.withdraw(30000)\n"
   ]
  }
 ],
 "metadata": {
  "kernelspec": {
   "display_name": "Python 3",
   "language": "python",
   "name": "python3"
  },
  "language_info": {
   "codemirror_mode": {
    "name": "ipython",
    "version": 3
   },
   "file_extension": ".py",
   "mimetype": "text/x-python",
   "name": "python",
   "nbconvert_exporter": "python",
   "pygments_lexer": "ipython3",
   "version": "3.9.6"
  }
 },
 "nbformat": 4,
 "nbformat_minor": 2
}
