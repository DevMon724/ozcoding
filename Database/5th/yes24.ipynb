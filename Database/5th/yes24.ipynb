{
 "cells": [
  {
   "cell_type": "code",
   "execution_count": 12,
   "metadata": {},
   "outputs": [
    {
     "data": {
      "text/plain": [
       "'/Users/mac/.wdm/drivers/chromedriver/mac64/129.0.6668.89/chromedriver-mac-x64/chromedriver'"
      ]
     },
     "execution_count": 12,
     "metadata": {},
     "output_type": "execute_result"
    }
   ],
   "source": [
    "from webdriver_manager.chrome import ChromeDriverManager\n",
    "ChromeDriverManager().install()\n"
   ]
  },
  {
   "cell_type": "code",
   "execution_count": 13,
   "metadata": {},
   "outputs": [],
   "source": [
    "from selenium import webdriver\n",
    "browser = webdriver.Chrome()\n"
   ]
  },
  {
   "cell_type": "code",
   "execution_count": 15,
   "metadata": {},
   "outputs": [],
   "source": [
    "url = 'https://google.com'\n",
    "browser.get(url)"
   ]
  },
  {
   "cell_type": "code",
   "execution_count": 16,
   "metadata": {},
   "outputs": [
    {
     "data": {
      "text/plain": [
       "'대한민국'"
      ]
     },
     "execution_count": 16,
     "metadata": {},
     "output_type": "execute_result"
    }
   ],
   "source": [
    "from selenium.webdriver.common.by import By\n",
    "browser.find_element(By.CLASS_NAME, 'uU7dJb').text"
   ]
  },
  {
   "cell_type": "code",
   "execution_count": 17,
   "metadata": {},
   "outputs": [],
   "source": [
    "url = 'https://www.yes24.com/Product/category/bestseller?CategoryNumber=001&sumgb=06'\n",
    "browser.get(url)"
   ]
  },
  {
   "cell_type": "code",
   "execution_count": 18,
   "metadata": {},
   "outputs": [
    {
     "name": "stdout",
     "output_type": "stream",
     "text": [
      "https://www.yes24.com/Product/Goods/133213071\n",
      "https://www.yes24.com/Product/Goods/125557465\n",
      "https://www.yes24.com/Product/Goods/131930939\n",
      "https://www.yes24.com/Product/Goods/133312039\n",
      "https://www.yes24.com/Product/Goods/133870359\n",
      "https://www.yes24.com/Product/Goods/104663596\n",
      "https://www.yes24.com/Product/Goods/133236068\n",
      "https://www.yes24.com/Product/Goods/132560712\n",
      "https://www.yes24.com/Product/Goods/133199014\n",
      "https://www.yes24.com/Product/Goods/117014613\n",
      "https://www.yes24.com/Product/Goods/133308510\n",
      "https://www.yes24.com/Product/Goods/134331993\n",
      "https://www.yes24.com/Product/Goods/128266166\n",
      "https://www.yes24.com/Product/Goods/124999476\n",
      "https://www.yes24.com/Product/Goods/124539805\n",
      "https://www.yes24.com/Product/Goods/8759796\n",
      "https://www.yes24.com/Product/Goods/129602366\n",
      "https://www.yes24.com/Product/Goods/132565140\n",
      "https://www.yes24.com/Product/Goods/133819718\n",
      "https://www.yes24.com/Product/Goods/118322901\n",
      "https://www.yes24.com/Product/Goods/133138701\n",
      "https://www.yes24.com/Product/Goods/133813184\n",
      "https://www.yes24.com/Product/Goods/124043812\n",
      "https://www.yes24.com/Product/Goods/102457889\n"
     ]
    }
   ],
   "source": [
    "# 1페이지 링크 데이터 전부 수집\n",
    "\n",
    "### 한 개의 베스트 셀러 링크 데이터 수집\n",
    "browser.find_element(By.CLASS_NAME, 'gd_name').get_attribute('href')\n",
    "\n",
    "### 1페이지 전체의 링크 데이터 \n",
    "datas = browser.find_elements(By.CLASS_NAME, 'gd_name')\n",
    "\n",
    "for i in datas :\n",
    "    print(i.get_attribute('href'))"
   ]
  },
  {
   "cell_type": "code",
   "execution_count": 19,
   "metadata": {},
   "outputs": [
    {
     "name": "stdout",
     "output_type": "stream",
     "text": [
      "********** 현재 1 페이지 수집 중입니다. **********\n",
      "********** 현재 2 페이지 수집 중입니다. **********\n",
      "********** 현재 3 페이지 수집 중입니다. **********\n",
      "['https://www.yes24.com/Product/Goods/133213071', 'https://www.yes24.com/Product/Goods/125557465', 'https://www.yes24.com/Product/Goods/131930939', 'https://www.yes24.com/Product/Goods/133312039', 'https://www.yes24.com/Product/Goods/133870359', 'https://www.yes24.com/Product/Goods/104663596', 'https://www.yes24.com/Product/Goods/133236068', 'https://www.yes24.com/Product/Goods/132560712', 'https://www.yes24.com/Product/Goods/133199014', 'https://www.yes24.com/Product/Goods/117014613', 'https://www.yes24.com/Product/Goods/133308510', 'https://www.yes24.com/Product/Goods/134331993', 'https://www.yes24.com/Product/Goods/128266166', 'https://www.yes24.com/Product/Goods/124999476', 'https://www.yes24.com/Product/Goods/124539805', 'https://www.yes24.com/Product/Goods/8759796', 'https://www.yes24.com/Product/Goods/129602366', 'https://www.yes24.com/Product/Goods/132565140', 'https://www.yes24.com/Product/Goods/133819718', 'https://www.yes24.com/Product/Goods/118322901', 'https://www.yes24.com/Product/Goods/133138701', 'https://www.yes24.com/Product/Goods/133813184', 'https://www.yes24.com/Product/Goods/124043812', 'https://www.yes24.com/Product/Goods/102457889', 'https://www.yes24.com/Product/Goods/129094064', 'https://www.yes24.com/Product/Goods/124043802', 'https://www.yes24.com/Product/Goods/96547408', 'https://www.yes24.com/Product/Goods/130135671', 'https://www.yes24.com/Product/Goods/130174102', 'https://www.yes24.com/Product/Goods/124145597', 'https://www.yes24.com/Product/Goods/130500819', 'https://www.yes24.com/Product/Goods/122120495', 'https://www.yes24.com/Product/Goods/132190133', 'https://www.yes24.com/Product/Goods/133824761', 'https://www.yes24.com/Product/Goods/133757215', 'https://www.yes24.com/Product/Goods/116586303', 'https://www.yes24.com/Product/Goods/129124029', 'https://www.yes24.com/Product/Goods/123930891', 'https://www.yes24.com/Product/Goods/133811843', 'https://www.yes24.com/Product/Goods/133819525', 'https://www.yes24.com/Product/Goods/133128647', 'https://www.yes24.com/Product/Goods/123930880', 'https://www.yes24.com/Product/Goods/104687898', 'https://www.yes24.com/Product/Goods/134021280', 'https://www.yes24.com/Product/Goods/133756359', 'https://www.yes24.com/Product/Goods/133277225', 'https://www.yes24.com/Product/Goods/109145992', 'https://www.yes24.com/Product/Goods/133812270', 'https://www.yes24.com/Product/Goods/128917300', 'https://www.yes24.com/Product/Goods/133819375', 'https://www.yes24.com/Product/Goods/95721612', 'https://www.yes24.com/Product/Goods/67362730', 'https://www.yes24.com/Product/Goods/124219505', 'https://www.yes24.com/Product/Goods/133673008', 'https://www.yes24.com/Product/Goods/124409868', 'https://www.yes24.com/Product/Goods/133878692', 'https://www.yes24.com/Product/Goods/124225606', 'https://www.yes24.com/Product/Goods/121507789', 'https://www.yes24.com/Product/Goods/134021461', 'https://www.yes24.com/Product/Goods/124908600', 'https://www.yes24.com/Product/Goods/125295101', 'https://www.yes24.com/Product/Goods/132181262', 'https://www.yes24.com/Product/Goods/128133897', 'https://www.yes24.com/Product/Goods/79297023', 'https://www.yes24.com/Product/Goods/133339464', 'https://www.yes24.com/Product/Goods/132754223', 'https://www.yes24.com/Product/Goods/2312211', 'https://www.yes24.com/Product/Goods/132619282', 'https://www.yes24.com/Product/Goods/111680193', 'https://www.yes24.com/Product/Goods/110641272', 'https://www.yes24.com/Product/Goods/133741785', 'https://www.yes24.com/Product/Goods/11081680']\n"
     ]
    }
   ],
   "source": [
    "# 3페이지 까지의 링크 데이터 전부 수집\n",
    "import time\n",
    "\n",
    "link_list = []\n",
    "for i in range (1, 4) :\n",
    "    print('*' * 10, f\"현재 {i} 페이지 수집 중입니다.\", \"*\" * 10)\n",
    "    url = f'https://www.yes24.com/Product/Category/BestSeller?categoryNumber=001&pageNumber={i}&pageSize=24'\n",
    "    browser.get(url)\n",
    "\n",
    "    browser.find_element(By.CLASS_NAME, 'gd_name').get_attribute('href')\n",
    "\n",
    "    datas = browser.find_elements(By.CLASS_NAME, 'gd_name')\n",
    "\n",
    "    for i in datas : \n",
    "        link = i.get_attribute('href')\n",
    "        link_list.append(link)\n",
    "\n",
    "    time.sleep(3)\n",
    "\n",
    "print(link_list)\n"
   ]
  },
  {
   "cell_type": "code",
   "execution_count": 23,
   "metadata": {},
   "outputs": [
    {
     "data": {
      "text/plain": [
       "72"
      ]
     },
     "execution_count": 23,
     "metadata": {},
     "output_type": "execute_result"
    }
   ],
   "source": [
    "len(link_list)"
   ]
  },
  {
   "cell_type": "code",
   "execution_count": 41,
   "metadata": {},
   "outputs": [
    {
     "data": {
      "text/plain": [
       "'국내도서 1위 2주'"
      ]
     },
     "execution_count": 41,
     "metadata": {},
     "output_type": "execute_result"
    }
   ],
   "source": [
    "#for link in link_list :\n",
    "    #상세 페이지로 이동\n",
    "\n",
    "\n",
    "browser.get(link_list[0])\n",
    "\n",
    "title = browser.find_element(By.CLASS_NAME, 'gd_name').text\n",
    "author = browser.find_element(By.CLASS_NAME, 'gd_auth').text\n",
    "publisher = browser.find_element(By.CLASS_NAME, 'gd_pub').text\n",
    "publishing = browser.find_element(By.CLASS_NAME, 'gd_date').text\n",
    "rating = browser.find_element(By.CLASS_NAME, \"yes_b\").text\n",
    "reviews = browser.find_element(By.CLASS_NAME, \"gd_reviewCount\").text\n",
    "sales = browser.find_element(By.CLASS_NAME, 'gd_sellNum').text.split(\" \")[2]\n",
    "price = browser.find_element(By.CLASS_NAME, \"yes_m\").text[:-1]\n",
    "ranking = browser.find_element(By.CLASS_NAME, \"gd_best\").text.split(\" | \")[0]\n",
    "ranking_weeks = browser.find_element(By.CLASS_NAME, \"gd_best\").text.split(\" | \")[1]\n"
   ]
  }
 ],
 "metadata": {
  "kernelspec": {
   "display_name": ".venv",
   "language": "python",
   "name": "python3"
  },
  "language_info": {
   "codemirror_mode": {
    "name": "ipython",
    "version": 3
   },
   "file_extension": ".py",
   "mimetype": "text/x-python",
   "name": "python",
   "nbconvert_exporter": "python",
   "pygments_lexer": "ipython3",
   "version": "3.9.6"
  }
 },
 "nbformat": 4,
 "nbformat_minor": 2
}
