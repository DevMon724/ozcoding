{
 "cells": [
  {
   "cell_type": "code",
   "execution_count": 1,
   "metadata": {},
   "outputs": [
    {
     "name": "stderr",
     "output_type": "stream",
     "text": [
      "/Users/mac/Desktop/ozcoding/Database/.venv/lib/python3.9/site-packages/urllib3/__init__.py:35: NotOpenSSLWarning: urllib3 v2 only supports OpenSSL 1.1.1+, currently the 'ssl' module is compiled with 'LibreSSL 2.8.3'. See: https://github.com/urllib3/urllib3/issues/3020\n",
      "  warnings.warn(\n"
     ]
    },
    {
     "data": {
      "text/plain": [
       "'/Users/mac/.wdm/drivers/chromedriver/mac64/129.0.6668.89/chromedriver-mac-x64/chromedriver'"
      ]
     },
     "execution_count": 1,
     "metadata": {},
     "output_type": "execute_result"
    }
   ],
   "source": [
    "from webdriver_manager.chrome import ChromeDriverManager\n",
    "ChromeDriverManager().install()\n"
   ]
  },
  {
   "cell_type": "code",
   "execution_count": 2,
   "metadata": {},
   "outputs": [],
   "source": [
    "from selenium import webdriver\n",
    "browser = webdriver.Chrome()\n"
   ]
  },
  {
   "cell_type": "code",
   "execution_count": 3,
   "metadata": {},
   "outputs": [],
   "source": [
    "url = 'https://google.com'\n",
    "browser.get(url)"
   ]
  },
  {
   "cell_type": "code",
   "execution_count": 4,
   "metadata": {},
   "outputs": [
    {
     "data": {
      "text/plain": [
       "'대한민국'"
      ]
     },
     "execution_count": 4,
     "metadata": {},
     "output_type": "execute_result"
    }
   ],
   "source": [
    "from selenium.webdriver.common.by import By\n",
    "browser.find_element(By.CLASS_NAME, 'uU7dJb').text"
   ]
  },
  {
   "cell_type": "code",
   "execution_count": 5,
   "metadata": {},
   "outputs": [],
   "source": [
    "url = 'https://www.yes24.com/Product/category/bestseller?CategoryNumber=001&sumgb=06'\n",
    "browser.get(url)"
   ]
  },
  {
   "cell_type": "code",
   "execution_count": 6,
   "metadata": {},
   "outputs": [
    {
     "name": "stdout",
     "output_type": "stream",
     "text": [
      "https://www.yes24.com/Product/Goods/133213071\n",
      "https://www.yes24.com/Product/Goods/125557465\n",
      "https://www.yes24.com/Product/Goods/133312039\n",
      "https://www.yes24.com/Product/Goods/131930939\n",
      "https://www.yes24.com/Product/Goods/133870359\n",
      "https://www.yes24.com/Product/Goods/104663596\n",
      "https://www.yes24.com/Product/Goods/133236068\n",
      "https://www.yes24.com/Product/Goods/133308510\n",
      "https://www.yes24.com/Product/Goods/133199014\n",
      "https://www.yes24.com/Product/Goods/132560712\n",
      "https://www.yes24.com/Product/Goods/134331993\n",
      "https://www.yes24.com/Product/Goods/117014613\n",
      "https://www.yes24.com/Product/Goods/128266166\n",
      "https://www.yes24.com/Product/Goods/124539805\n",
      "https://www.yes24.com/Product/Goods/8759796\n",
      "https://www.yes24.com/Product/Goods/124999476\n",
      "https://www.yes24.com/Product/Goods/133819718\n",
      "https://www.yes24.com/Product/Goods/129094064\n",
      "https://www.yes24.com/Product/Goods/132565140\n",
      "https://www.yes24.com/Product/Goods/129602366\n",
      "https://www.yes24.com/Product/Goods/133813184\n",
      "https://www.yes24.com/Product/Goods/118322901\n",
      "https://www.yes24.com/Product/Goods/124043812\n",
      "https://www.yes24.com/Product/Goods/102457889\n"
     ]
    }
   ],
   "source": [
    "# 1페이지 링크 데이터 전부 수집\n",
    "\n",
    "### 한 개의 베스트 셀러 링크 데이터 수집\n",
    "browser.find_element(By.CLASS_NAME, 'gd_name').get_attribute('href')\n",
    "\n",
    "### 1페이지 전체의 링크 데이터 \n",
    "datas = browser.find_elements(By.CLASS_NAME, 'gd_name')\n",
    "\n",
    "for i in datas :\n",
    "    print(i.get_attribute('href'))"
   ]
  },
  {
   "cell_type": "code",
   "execution_count": 7,
   "metadata": {},
   "outputs": [
    {
     "name": "stdout",
     "output_type": "stream",
     "text": [
      "********** 현재 1 페이지 수집 중입니다. **********\n",
      "********** 현재 2 페이지 수집 중입니다. **********\n",
      "********** 현재 3 페이지 수집 중입니다. **********\n",
      "['https://www.yes24.com/Product/Goods/133213071', 'https://www.yes24.com/Product/Goods/125557465', 'https://www.yes24.com/Product/Goods/133312039', 'https://www.yes24.com/Product/Goods/131930939', 'https://www.yes24.com/Product/Goods/133870359', 'https://www.yes24.com/Product/Goods/104663596', 'https://www.yes24.com/Product/Goods/133236068', 'https://www.yes24.com/Product/Goods/133308510', 'https://www.yes24.com/Product/Goods/133199014', 'https://www.yes24.com/Product/Goods/132560712', 'https://www.yes24.com/Product/Goods/134331993', 'https://www.yes24.com/Product/Goods/117014613', 'https://www.yes24.com/Product/Goods/128266166', 'https://www.yes24.com/Product/Goods/124539805', 'https://www.yes24.com/Product/Goods/8759796', 'https://www.yes24.com/Product/Goods/124999476', 'https://www.yes24.com/Product/Goods/133819718', 'https://www.yes24.com/Product/Goods/129094064', 'https://www.yes24.com/Product/Goods/132565140', 'https://www.yes24.com/Product/Goods/129602366', 'https://www.yes24.com/Product/Goods/133813184', 'https://www.yes24.com/Product/Goods/118322901', 'https://www.yes24.com/Product/Goods/124043812', 'https://www.yes24.com/Product/Goods/102457889', 'https://www.yes24.com/Product/Goods/124043802', 'https://www.yes24.com/Product/Goods/96547408', 'https://www.yes24.com/Product/Goods/124145597', 'https://www.yes24.com/Product/Goods/130174102', 'https://www.yes24.com/Product/Goods/130135671', 'https://www.yes24.com/Product/Goods/133819525', 'https://www.yes24.com/Product/Goods/132190133', 'https://www.yes24.com/Product/Goods/122120495', 'https://www.yes24.com/Product/Goods/130500819', 'https://www.yes24.com/Product/Goods/116586303', 'https://www.yes24.com/Product/Goods/133757215', 'https://www.yes24.com/Product/Goods/134021280', 'https://www.yes24.com/Product/Goods/133673008', 'https://www.yes24.com/Product/Goods/133277225', 'https://www.yes24.com/Product/Goods/133811843', 'https://www.yes24.com/Product/Goods/133138701', 'https://www.yes24.com/Product/Goods/133819375', 'https://www.yes24.com/Product/Goods/133824761', 'https://www.yes24.com/Product/Goods/121507789', 'https://www.yes24.com/Product/Goods/123930891', 'https://www.yes24.com/Product/Goods/133756359', 'https://www.yes24.com/Product/Goods/129124029', 'https://www.yes24.com/Product/Goods/104687898', 'https://www.yes24.com/Product/Goods/124908600', 'https://www.yes24.com/Product/Goods/123930880', 'https://www.yes24.com/Product/Goods/133128647', 'https://www.yes24.com/Product/Goods/124219505', 'https://www.yes24.com/Product/Goods/124225606', 'https://www.yes24.com/Product/Goods/109145992', 'https://www.yes24.com/Product/Goods/133878692', 'https://www.yes24.com/Product/Goods/67362730', 'https://www.yes24.com/Product/Goods/128917300', 'https://www.yes24.com/Product/Goods/95721612', 'https://www.yes24.com/Product/Goods/133812270', 'https://www.yes24.com/Product/Goods/134021461', 'https://www.yes24.com/Product/Goods/128133897', 'https://www.yes24.com/Product/Goods/74971092', 'https://www.yes24.com/Product/Goods/133339464', 'https://www.yes24.com/Product/Goods/2312211', 'https://www.yes24.com/Product/Goods/132181262', 'https://www.yes24.com/Product/Goods/132619282', 'https://www.yes24.com/Product/Goods/125492144', 'https://www.yes24.com/Product/Goods/125295101', 'https://www.yes24.com/Product/Goods/133741785', 'https://www.yes24.com/Product/Goods/132754223', 'https://www.yes24.com/Product/Goods/133891766', 'https://www.yes24.com/Product/Goods/124409868', 'https://www.yes24.com/Product/Goods/111680193']\n"
     ]
    }
   ],
   "source": [
    "# 3페이지 까지의 링크 데이터 전부 수집\n",
    "import time\n",
    "\n",
    "link_list = []\n",
    "for i in range (1, 4) :\n",
    "    print('*' * 10, f\"현재 {i} 페이지 수집 중입니다.\", \"*\" * 10)\n",
    "    url = f'https://www.yes24.com/Product/Category/BestSeller?categoryNumber=001&pageNumber={i}&pageSize=24'\n",
    "    browser.get(url)\n",
    "\n",
    "    browser.find_element(By.CLASS_NAME, 'gd_name').get_attribute('href')\n",
    "\n",
    "    datas = browser.find_elements(By.CLASS_NAME, 'gd_name')\n",
    "\n",
    "    for i in datas : \n",
    "        link = i.get_attribute('href')\n",
    "        link_list.append(link)\n",
    "\n",
    "    time.sleep(3)\n",
    "\n",
    "print(link_list)\n"
   ]
  },
  {
   "cell_type": "code",
   "execution_count": 8,
   "metadata": {},
   "outputs": [
    {
     "data": {
      "text/plain": [
       "72"
      ]
     },
     "execution_count": 8,
     "metadata": {},
     "output_type": "execute_result"
    }
   ],
   "source": [
    "len(link_list)"
   ]
  },
  {
   "cell_type": "code",
   "execution_count": 9,
   "metadata": {},
   "outputs": [],
   "source": [
    "#for link in link_list :\n",
    "    #상세 페이지로 이동\n",
    "\n",
    "\n",
    "browser.get(link_list[0])\n",
    "\n",
    "title = browser.find_element(By.CLASS_NAME, 'gd_name').text\n",
    "author = browser.find_element(By.CLASS_NAME, 'gd_auth').text\n",
    "publisher = browser.find_element(By.CLASS_NAME, 'gd_pub').text\n",
    "publishing = browser.find_element(By.CLASS_NAME, 'gd_date').text\n",
    "rating = browser.find_element(By.CLASS_NAME, \"yes_b\").text\n",
    "review = browser.find_element(By.CLASS_NAME, \"gd_reviewCount\").text\n",
    "sales = browser.find_element(By.CLASS_NAME, 'gd_sellNum').text.split(\" \")[2]\n",
    "price = browser.find_element(By.CLASS_NAME, \"yes_m\").text[:-1]\n",
    "ranking = browser.find_element(By.CLASS_NAME, \"gd_best\").text.split(\" | \")[0]\n",
    "ranking_weeks = browser.find_element(By.CLASS_NAME, \"gd_best\").text.split(\" | \")[1]\n"
   ]
  },
  {
   "cell_type": "code",
   "execution_count": 10,
   "metadata": {},
   "outputs": [],
   "source": [
    "# 데이터 베이스 연동 후 -> 수집한 데이터를 db에 저장 (csv)\n",
    "import pymysql\n",
    "import time\n",
    "import re\n",
    "from datetime import datetime\n",
    "\n",
    "\n",
    "conn = pymysql.connect(\n",
    "    host='localhost',\n",
    "    user='root',\n",
    "    password='dudgus724',\n",
    "    db='yes24',\n",
    "    charset='utf8mb4',\n",
    "    cursorclass=pymysql.cursors.DictCursor\n",
    "\n",
    ")\n",
    "\n",
    "with conn.cursor() as cur :\n",
    "    for link in link_list:\n",
    "\n",
    "        browser.get(link)\n",
    "\n",
    "        title = browser.find_element(By.CLASS_NAME, 'gd_name').text\n",
    "        author = browser.find_element(By.CLASS_NAME, 'gd_auth').text\n",
    "        publisher = browser.find_element(By.CLASS_NAME, 'gd_pub').text\n",
    "\n",
    "        # 날짜 형식 바꾸기\n",
    "        publishing = browser.find_element(By.CLASS_NAME, 'gd_date').text\n",
    "        match = re.search(r'(\\d+)년 (\\d+)월 (\\d+)일', publishing)\n",
    "\n",
    "        if match:\n",
    "            year, month, day = match.groups()\n",
    "            data_obj = datetime(int(year), int(month), int(day))\n",
    "            publishing = data_obj.strftime(\"%Y-%m-%d\")\n",
    "        else : \n",
    "            publishing = \"2023-01-01\"\n",
    "\n",
    "        try : \n",
    "            rating = browser.find_element(By.CLASS_NAME, \"gd_rating\").text\n",
    "            rating = re.sub(r'[^0-9]', '', rating)\n",
    "\n",
    "            if rating != '' :\n",
    "                rating = rating\n",
    "            else : \n",
    "                rating = 0\n",
    "       \n",
    "        except :\n",
    "            \n",
    "            rating = 0\n",
    "\n",
    "        review = browser.find_element(By.CLASS_NAME, \"gd_reviewCount\").text\n",
    "        review = re.sub(r'[^0-9]', '', review)\n",
    "\n",
    "        if len(review) > 0 :\n",
    "            review = int(review)\n",
    "        else :\n",
    "            review = 0\n",
    "         \n",
    "\n",
    "        sales = browser.find_element(By.CLASS_NAME, 'gd_sellNum').text.split(\" \")[2]\n",
    "        sales = int(sales.replace(\",\", \"\"))\n",
    "\n",
    "        price = browser.find_element(By.CLASS_NAME, \"yes_m\").text[:-1]\n",
    "        price = int(price.replace(\",\", \"\"))\n",
    "\n",
    "        full_text = browser.find_element(By.CLASS_NAME, 'gd_best').text\n",
    "        parts = full_text.split(\" | \")\n",
    "\n",
    "        if len(parts) == 1 :\n",
    "            ranking = 0\n",
    "            ranking_weeks = 0\n",
    "        else : \n",
    "\n",
    "            try : \n",
    "                ranking_part = parts[0]\n",
    "                ranking = ''.join(filter(str.isdigit, ranking_part)) #숫자만 추출\n",
    "            except : \n",
    "                raking = 0\n",
    "\n",
    "            try:\n",
    "                ranking_weeks_part = parts[1]\n",
    "                ranking_weeks = ''.join(filter(str.isdigit, ranking_weeks_part.split()[-1]))\n",
    "            except:\n",
    "                ranking_weeks = 0\n",
    "\n",
    "        sql = \"\"\"INSERT INTO Books(\n",
    "            title, author, publisher, publishing, rating, review, sales, price, ranking, ranking_weeks\n",
    "            )\n",
    "            VALUES(\n",
    "            %s, %s, %s, %s, %s, %s, %s, %s, %s, %s\n",
    "            )\n",
    "            \"\"\"\n",
    "        cur.execute(sql, (title, author, publisher, publishing, rating, review, sales, price, ranking, ranking_weeks))\n",
    "        conn.commit()\n",
    "\n",
    "        time.sleep(2)"
   ]
  }
 ],
 "metadata": {
  "kernelspec": {
   "display_name": ".venv",
   "language": "python",
   "name": "python3"
  },
  "language_info": {
   "codemirror_mode": {
    "name": "ipython",
    "version": 3
   },
   "file_extension": ".py",
   "mimetype": "text/x-python",
   "name": "python",
   "nbconvert_exporter": "python",
   "pygments_lexer": "ipython3",
   "version": "3.9.6"
  }
 },
 "nbformat": 4,
 "nbformat_minor": 2
}
